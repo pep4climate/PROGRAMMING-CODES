{
 "cells": [
  {
   "cell_type": "code",
   "execution_count": 418,
   "metadata": {},
   "outputs": [],
   "source": [
    "unit_weight_mean = 22 #kN/m3 -from Tubaldi et al. (2018)\n",
    "unit_weight_cv = 0.10 #dimensionless -from Mendoza Cabanzo et al. (2022)"
   ]
  },
  {
   "cell_type": "code",
   "execution_count": 419,
   "metadata": {},
   "outputs": [
    {
     "name": "stdout",
     "output_type": "stream",
     "text": [
      "2.2\n"
     ]
    }
   ],
   "source": [
    "unit_weight_std = unit_weight_mean * unit_weight_cv #kN/m3\n",
    "print(unit_weight_std)"
   ]
  },
  {
   "cell_type": "code",
   "execution_count": 420,
   "metadata": {},
   "outputs": [],
   "source": [
    "# For more info, look at https://stackoverflow.com/questions/10138085/how-to-plot-normal-distribution\n",
    "import math\n",
    "import numpy as np\n",
    "import matplotlib.pyplot as plt\n",
    "import scipy.stats as stats"
   ]
  },
  {
   "cell_type": "code",
   "execution_count": 421,
   "metadata": {},
   "outputs": [],
   "source": [
    "pi = math.pi"
   ]
  },
  {
   "cell_type": "code",
   "execution_count": 422,
   "metadata": {},
   "outputs": [],
   "source": [
    "no_samples = 100000\n",
    "unit_weight_values = np.linspace(unit_weight_mean-3*unit_weight_std, unit_weight_mean+3*unit_weight_std, no_samples)"
   ]
  },
  {
   "cell_type": "code",
   "execution_count": 423,
   "metadata": {},
   "outputs": [
    {
     "data": {
      "image/png": "[encoded data removed]",
      "text/plain": [
       "<Figure size 432x288 with 1 Axes>"
      ]
     },
     "metadata": {
      "needs_background": "light"
     },
     "output_type": "display_data"
    }
   ],
   "source": [
    "plt.plot(unit_weight_values, stats.norm.pdf(unit_weight_values, unit_weight_mean, unit_weight_std))\n",
    "plt.xlabel(\"Masonry's unit weight (kN/m$^3$)\") #for more info, look at https://www.delftstack.com/howto/matplotlib/python-matplotlib-plot-superscript/#:~:text=To%20make%20subscripts%2C%20you%20have,will%20be%20over%20the%20character.\n",
    "plt.ylabel(\"Frequency (-)\")\n",
    "characters_size = 14\n",
    "plt.rc('axes', labelsize = characters_size) #for more info, look at https://stackoverflow.com/questions/3899980/how-to-change-the-font-size-on-a-matplotlib-plot\n",
    "plt.rc('xtick', labelsize = characters_size)\n",
    "plt.rc('ytick', labelsize = characters_size)\n"
   ]
  },
  {
   "cell_type": "code",
   "execution_count": 424,
   "metadata": {},
   "outputs": [],
   "source": [
    "#import random #for more info, https://stackoverflow.com/questions/30030659/in-python-what-is-the-difference-between-random-uniform-and-random-random#:~:text=It's%20very%20common%20to%20generate,to%20specify%20a%20different%20range.\n",
    "\n",
    "#unif_random_numbers = np.random.uniform(0,1, no_samples) #for more info, https://numpy.org/doc/stable/reference/random/generated/numpy.random.uniform.html\n",
    "\n",
    "#print(unif_random_numbers)"
   ]
  },
  {
   "cell_type": "code",
   "execution_count": 425,
   "metadata": {},
   "outputs": [
    {
     "data": {
      "text/plain": [
       "array([0.4359949 , 0.02592623, 0.54966248, 0.43532239, 0.4203678 ])"
      ]
     },
     "execution_count": 425,
     "metadata": {},
     "output_type": "execute_result"
    }
   ],
   "source": [
    "#To guarantee reproducibility, the seed function can be used. Random.uniform() returns a new random number from a PRNG sequence. When that PRNG sequence is\n",
    "#seeded with the same value, it produces the same sequence. Random is seeded with current system time on module import by default.\n",
    "#The seed must be stated explicitly to enable reproduction of the same sequence, which can be important for simulations.\n",
    "#for more, https://stackoverflow.com/questions/32489360/do-i-need-to-use-random-seed-with-random-uniform-to-ensure-i-get-different-s\n",
    "\n",
    "import scipy as sp #for more, https://subscription.packtpub.com/book/big-data-&-business-intelligence/9781787125698/12/ch25lvl1sec126/generating-random-numbers-from-a-uniform-distribution\n",
    "sp.random.seed(2)\n",
    "\n",
    "unif_random_numbers = sp.random.uniform(low=0, high=1, size = no_samples)\n",
    "unif_random_numbers[0:5] #for more, https://stackoverflow.com/questions/29793345/how-to-read-the-first-row-of-an-array-in-python"
   ]
  },
  {
   "cell_type": "code",
   "execution_count": 426,
   "metadata": {},
   "outputs": [
    {
     "data": {
      "text/plain": [
       "array([-0.16113153, -1.9443566 ,  0.12480864, -0.16283953, -0.20095264])"
      ]
     },
     "execution_count": 426,
     "metadata": {},
     "output_type": "execute_result"
    }
   ],
   "source": [
    "unit_weight_realizations_standard = stats.norm.ppf(unif_random_numbers) #for more info, https://stackoverflow.com/questions/20626994/how-to-calculate-the-inverse-of-the-normal-cumulative-distribution-function-in-p\n",
    "unit_weight_realizations_standard[0:5]"
   ]
  },
  {
   "cell_type": "code",
   "execution_count": 427,
   "metadata": {},
   "outputs": [
    {
     "data": {
      "text/plain": [
       "array([21.64551063, 17.72241548, 22.27457902, 21.64175304, 21.55790419])"
      ]
     },
     "execution_count": 427,
     "metadata": {},
     "output_type": "execute_result"
    }
   ],
   "source": [
    "unit_weight_realizations_distribution = (unit_weight_std * unit_weight_realizations_standard) + unit_weight_mean #for more info, https://www.probabilitycourse.com/chapter4/4_2_3_normal.php\n",
    "unit_weight_realizations_distribution[0:5]"
   ]
  },
  {
   "cell_type": "code",
   "execution_count": 428,
   "metadata": {},
   "outputs": [
    {
     "data": {
      "text/plain": [
       "array([238.10061688, 194.94657029, 245.02036918, 238.05928344,\n",
       "       237.13694604])"
      ]
     },
     "execution_count": 428,
     "metadata": {},
     "output_type": "execute_result"
    }
   ],
   "source": [
    "Ed_arch = 242 #kN -from Arch_NoScour_DeterministicModel_Total.ipynb-, -the springing thrust in the arch due to all vertical loads-\n",
    "Ed_arch_new = (Ed_arch/unit_weight_mean) * unit_weight_realizations_distribution #the unit weight is linear across equations, therefore the found deterministic value can be divided by the paper value, and then multiplied by the random variable values\n",
    "Ed_arch_new[0:5]"
   ]
  },
  {
   "cell_type": "code",
   "execution_count": 429,
   "metadata": {},
   "outputs": [
    {
     "data": {
      "text/plain": [
       "array([[238.10061688],\n",
       "       [194.94657029],\n",
       "       [245.02036918],\n",
       "       [238.05928344],\n",
       "       [237.13694604]])"
      ]
     },
     "execution_count": 429,
     "metadata": {},
     "output_type": "execute_result"
    }
   ],
   "source": [
    "Ed_arch_new = np.array([Ed_arch_new]).T #for more, https://numpy.org/doc/stable/reference/generated/numpy.ndarray.T.html\n",
    "Ed_arch_new[0:5]"
   ]
  },
  {
   "cell_type": "code",
   "execution_count": 430,
   "metadata": {},
   "outputs": [],
   "source": [
    "Rd = 386 #kN -from Arch_NoScour_DeterministicModel.ipynb"
   ]
  },
  {
   "cell_type": "code",
   "execution_count": 431,
   "metadata": {},
   "outputs": [
    {
     "data": {
      "text/plain": [
       "array([[147.89938312],\n",
       "       [191.05342971],\n",
       "       [140.97963082],\n",
       "       [147.94071656],\n",
       "       [148.86305396]])"
      ]
     },
     "execution_count": 431,
     "metadata": {},
     "output_type": "execute_result"
    }
   ],
   "source": [
    "safety_margin = Rd - Ed_arch_new #it is only a test, since more Rd values than one are needed\n",
    "safety_margin[0:5]"
   ]
  },
  {
   "cell_type": "code",
   "execution_count": 432,
   "metadata": {},
   "outputs": [],
   "source": [
    "#Ed_tot_new.to_csv('demand') #for more, https://www.codegrepper.com/code-examples/python/numpy+to_csv\n",
    "import pandas as pd #for more, https://www.codegrepper.com/code-examples/python/numpy+to_csv\n",
    "pd.DataFrame(Ed_arch_new).to_csv(\"demand.csv\")"
   ]
  }
 ],
 "metadata": {
  "kernelspec": {
   "display_name": "Python 3.9.7 ('base')",
   "language": "python",
   "name": "python3"
  },
  "language_info": {
   "codemirror_mode": {
    "name": "ipython",
    "version": 3
   },
   "file_extension": ".py",
   "mimetype": "text/x-python",
   "name": "python",
   "nbconvert_exporter": "python",
   "pygments_lexer": "ipython3",
   "version": "3.9.7"
  },
  "orig_nbformat": 4,
  "vscode": {
   "interpreter": {
    "hash": "40d3a090f54c6569ab1632332b64b2c03c39dcf918b08424e98f38b5ae0af88f"
   }
  }
 },
 "nbformat": 4,
 "nbformat_minor": 2
}
