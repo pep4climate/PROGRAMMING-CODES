{
 "cells": [
  {
   "cell_type": "code",
   "execution_count": 7,
   "metadata": {},
   "outputs": [
    {
     "name": "stdout",
     "output_type": "stream",
     "text": [
      "Requirement already satisfied: notebooktoall in /opt/anaconda3/lib/python3.9/site-packages (0.2.3)\n",
      "Requirement already satisfied: requests>=2 in /opt/anaconda3/lib/python3.9/site-packages (from notebooktoall) (2.27.1)\n",
      "Requirement already satisfied: nbconvert>=5 in /opt/anaconda3/lib/python3.9/site-packages (from notebooktoall) (6.4.4)\n",
      "Requirement already satisfied: nbformat>=4 in /opt/anaconda3/lib/python3.9/site-packages (from notebooktoall) (5.3.0)\n",
      "Requirement already satisfied: ipython>=6 in /opt/anaconda3/lib/python3.9/site-packages (from notebooktoall) (8.2.0)\n",
      "Requirement already satisfied: stack-data in /opt/anaconda3/lib/python3.9/site-packages (from ipython>=6->notebooktoall) (0.2.0)\n",
      "Requirement already satisfied: prompt-toolkit!=3.0.0,!=3.0.1,<3.1.0,>=2.0.0 in /opt/anaconda3/lib/python3.9/site-packages (from ipython>=6->notebooktoall) (3.0.20)\n",
      "Requirement already satisfied: traitlets>=5 in /opt/anaconda3/lib/python3.9/site-packages (from ipython>=6->notebooktoall) (5.1.1)\n",
      "Requirement already satisfied: appnope in /opt/anaconda3/lib/python3.9/site-packages (from ipython>=6->notebooktoall) (0.1.2)\n",
      "Requirement already satisfied: pickleshare in /opt/anaconda3/lib/python3.9/site-packages (from ipython>=6->notebooktoall) (0.7.5)\n",
      "Requirement already satisfied: decorator in /opt/anaconda3/lib/python3.9/site-packages (from ipython>=6->notebooktoall) (5.1.1)\n",
      "Requirement already satisfied: pygments>=2.4.0 in /opt/anaconda3/lib/python3.9/site-packages (from ipython>=6->notebooktoall) (2.11.2)\n",
      "Requirement already satisfied: jedi>=0.16 in /opt/anaconda3/lib/python3.9/site-packages (from ipython>=6->notebooktoall) (0.18.1)\n",
      "Requirement already satisfied: pexpect>4.3 in /opt/anaconda3/lib/python3.9/site-packages (from ipython>=6->notebooktoall) (4.8.0)\n",
      "Requirement already satisfied: setuptools>=18.5 in /opt/anaconda3/lib/python3.9/site-packages (from ipython>=6->notebooktoall) (61.2.0)\n",
      "Requirement already satisfied: backcall in /opt/anaconda3/lib/python3.9/site-packages (from ipython>=6->notebooktoall) (0.2.0)\n",
      "Requirement already satisfied: matplotlib-inline in /opt/anaconda3/lib/python3.9/site-packages (from ipython>=6->notebooktoall) (0.1.2)\n",
      "Requirement already satisfied: parso<0.9.0,>=0.8.0 in /opt/anaconda3/lib/python3.9/site-packages (from jedi>=0.16->ipython>=6->notebooktoall) (0.8.3)\n",
      "Requirement already satisfied: pandocfilters>=1.4.1 in /opt/anaconda3/lib/python3.9/site-packages (from nbconvert>=5->notebooktoall) (1.5.0)\n",
      "Requirement already satisfied: bleach in /opt/anaconda3/lib/python3.9/site-packages (from nbconvert>=5->notebooktoall) (4.1.0)\n",
      "Requirement already satisfied: testpath in /opt/anaconda3/lib/python3.9/site-packages (from nbconvert>=5->notebooktoall) (0.5.0)\n",
      "Requirement already satisfied: mistune<2,>=0.8.1 in /opt/anaconda3/lib/python3.9/site-packages (from nbconvert>=5->notebooktoall) (0.8.4)\n",
      "Requirement already satisfied: defusedxml in /opt/anaconda3/lib/python3.9/site-packages (from nbconvert>=5->notebooktoall) (0.7.1)\n",
      "Requirement already satisfied: jinja2>=2.4 in /opt/anaconda3/lib/python3.9/site-packages (from nbconvert>=5->notebooktoall) (2.11.3)\n",
      "Requirement already satisfied: beautifulsoup4 in /opt/anaconda3/lib/python3.9/site-packages (from nbconvert>=5->notebooktoall) (4.11.1)\n",
      "Requirement already satisfied: jupyterlab-pygments in /opt/anaconda3/lib/python3.9/site-packages (from nbconvert>=5->notebooktoall) (0.1.2)\n",
      "Requirement already satisfied: entrypoints>=0.2.2 in /opt/anaconda3/lib/python3.9/site-packages (from nbconvert>=5->notebooktoall) (0.4)\n",
      "Requirement already satisfied: nbclient<0.6.0,>=0.5.0 in /opt/anaconda3/lib/python3.9/site-packages (from nbconvert>=5->notebooktoall) (0.5.13)\n",
      "Requirement already satisfied: jupyter-core in /opt/anaconda3/lib/python3.9/site-packages (from nbconvert>=5->notebooktoall) (4.9.2)\n",
      "Requirement already satisfied: MarkupSafe>=0.23 in /opt/anaconda3/lib/python3.9/site-packages (from jinja2>=2.4->nbconvert>=5->notebooktoall) (2.0.1)\n",
      "Requirement already satisfied: nest-asyncio in /opt/anaconda3/lib/python3.9/site-packages (from nbclient<0.6.0,>=0.5.0->nbconvert>=5->notebooktoall) (1.5.5)\n",
      "Requirement already satisfied: jupyter-client>=6.1.5 in /opt/anaconda3/lib/python3.9/site-packages (from nbclient<0.6.0,>=0.5.0->nbconvert>=5->notebooktoall) (6.1.12)\n",
      "Requirement already satisfied: python-dateutil>=2.1 in /opt/anaconda3/lib/python3.9/site-packages (from jupyter-client>=6.1.5->nbclient<0.6.0,>=0.5.0->nbconvert>=5->notebooktoall) (2.8.2)\n",
      "Requirement already satisfied: pyzmq>=13 in /opt/anaconda3/lib/python3.9/site-packages (from jupyter-client>=6.1.5->nbclient<0.6.0,>=0.5.0->nbconvert>=5->notebooktoall) (22.3.0)\n",
      "Requirement already satisfied: tornado>=4.1 in /opt/anaconda3/lib/python3.9/site-packages (from jupyter-client>=6.1.5->nbclient<0.6.0,>=0.5.0->nbconvert>=5->notebooktoall) (6.1)\n",
      "Requirement already satisfied: jsonschema>=2.6 in /opt/anaconda3/lib/python3.9/site-packages (from nbformat>=4->notebooktoall) (4.4.0)\n",
      "Requirement already satisfied: fastjsonschema in /opt/anaconda3/lib/python3.9/site-packages (from nbformat>=4->notebooktoall) (2.15.1)\n",
      "Requirement already satisfied: pyrsistent!=0.17.0,!=0.17.1,!=0.17.2,>=0.14.0 in /opt/anaconda3/lib/python3.9/site-packages (from jsonschema>=2.6->nbformat>=4->notebooktoall) (0.18.0)\n",
      "Requirement already satisfied: attrs>=17.4.0 in /opt/anaconda3/lib/python3.9/site-packages (from jsonschema>=2.6->nbformat>=4->notebooktoall) (21.4.0)\n",
      "Requirement already satisfied: ptyprocess>=0.5 in /opt/anaconda3/lib/python3.9/site-packages (from pexpect>4.3->ipython>=6->notebooktoall) (0.7.0)\n",
      "Requirement already satisfied: wcwidth in /opt/anaconda3/lib/python3.9/site-packages (from prompt-toolkit!=3.0.0,!=3.0.1,<3.1.0,>=2.0.0->ipython>=6->notebooktoall) (0.2.5)\n",
      "Requirement already satisfied: six>=1.5 in /opt/anaconda3/lib/python3.9/site-packages (from python-dateutil>=2.1->jupyter-client>=6.1.5->nbclient<0.6.0,>=0.5.0->nbconvert>=5->notebooktoall) (1.16.0)\n",
      "Requirement already satisfied: urllib3<1.27,>=1.21.1 in /opt/anaconda3/lib/python3.9/site-packages (from requests>=2->notebooktoall) (1.26.9)\n",
      "Requirement already satisfied: idna<4,>=2.5 in /opt/anaconda3/lib/python3.9/site-packages (from requests>=2->notebooktoall) (3.3)\n",
      "Requirement already satisfied: charset-normalizer~=2.0.0 in /opt/anaconda3/lib/python3.9/site-packages (from requests>=2->notebooktoall) (2.0.4)\n",
      "Requirement already satisfied: certifi>=2017.4.17 in /opt/anaconda3/lib/python3.9/site-packages (from requests>=2->notebooktoall) (2021.10.8)\n",
      "Requirement already satisfied: soupsieve>1.2 in /opt/anaconda3/lib/python3.9/site-packages (from beautifulsoup4->nbconvert>=5->notebooktoall) (2.3.1)\n",
      "Requirement already satisfied: packaging in /opt/anaconda3/lib/python3.9/site-packages (from bleach->nbconvert>=5->notebooktoall) (21.3)\n",
      "Requirement already satisfied: webencodings in /opt/anaconda3/lib/python3.9/site-packages (from bleach->nbconvert>=5->notebooktoall) (0.5.1)\n",
      "Requirement already satisfied: pyparsing!=3.0.5,>=2.0.2 in /opt/anaconda3/lib/python3.9/site-packages (from packaging->bleach->nbconvert>=5->notebooktoall) (3.0.4)\n",
      "Requirement already satisfied: pure-eval in /opt/anaconda3/lib/python3.9/site-packages (from stack-data->ipython>=6->notebooktoall) (0.2.2)\n",
      "Requirement already satisfied: executing in /opt/anaconda3/lib/python3.9/site-packages (from stack-data->ipython>=6->notebooktoall) (0.8.3)\n",
      "Requirement already satisfied: asttokens in /opt/anaconda3/lib/python3.9/site-packages (from stack-data->ipython>=6->notebooktoall) (2.0.5)\n",
      "Note: you may need to restart the kernel to use updated packages.\n"
     ]
    }
   ],
   "source": [
    "pip install notebooktoall"
   ]
  },
  {
   "cell_type": "code",
   "execution_count": 8,
   "metadata": {},
   "outputs": [],
   "source": [
    "from notebooktoall.transform import transform_notebook"
   ]
  },
  {
   "cell_type": "code",
   "execution_count": 11,
   "metadata": {},
   "outputs": [],
   "source": [
    "transform_notebook(ipynb_file=\"Parapet_NoScour_DeterministicModel.ipynb\",\n",
    "export_list=[\"py\"])"
   ]
  },
  {
   "cell_type": "code",
   "execution_count": 12,
   "metadata": {},
   "outputs": [],
   "source": [
    "from Parapet_NoScour_DeterministicModel import Parapet_contribution"
   ]
  },
  {
   "cell_type": "code",
   "execution_count": 15,
   "metadata": {},
   "outputs": [
    {
     "name": "stdout",
     "output_type": "stream",
     "text": [
      "31.75326\n",
      "35.40169836127973\n",
      "386.62\n"
     ]
    },
    {
     "data": {
      "text/plain": [
       "40.71195311547169"
      ]
     },
     "execution_count": 15,
     "metadata": {},
     "output_type": "execute_result"
    }
   ],
   "source": [
    "Parapet_contribution(0.87)"
   ]
  },
  {
   "cell_type": "code",
   "execution_count": null,
   "metadata": {},
   "outputs": [],
   "source": []
  }
 ],
 "metadata": {
  "kernelspec": {
   "display_name": "Python 3.9.7 ('base')",
   "language": "python",
   "name": "python3"
  },
  "language_info": {
   "codemirror_mode": {
    "name": "ipython",
    "version": 3
   },
   "file_extension": ".py",
   "mimetype": "text/x-python",
   "name": "python",
   "nbconvert_exporter": "python",
   "pygments_lexer": "ipython3",
   "version": "3.9.7"
  },
  "orig_nbformat": 4,
  "vscode": {
   "interpreter": {
    "hash": "40d3a090f54c6569ab1632332b64b2c03c39dcf918b08424e98f38b5ae0af88f"
   }
  }
 },
 "nbformat": 4,
 "nbformat_minor": 2
}
