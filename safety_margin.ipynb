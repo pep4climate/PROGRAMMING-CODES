{
 "cells": [
  {
   "cell_type": "code",
   "execution_count": 64,
   "metadata": {},
   "outputs": [],
   "source": [
    "import pandas as pd"
   ]
  },
  {
   "cell_type": "code",
   "execution_count": 65,
   "metadata": {},
   "outputs": [
    {
     "data": {
      "text/plain": [
       "array([[238.10061688],\n",
       "       [194.94657029],\n",
       "       [245.02036918],\n",
       "       [238.05928344],\n",
       "       [237.13694604]])"
      ]
     },
     "execution_count": 65,
     "metadata": {},
     "output_type": "execute_result"
    }
   ],
   "source": [
    "Ed_arch_no_scour = pd.read_csv(\"demand.csv\") #for the no scour case #for more, https://pandas.pydata.org/docs/reference/api/pandas.read_csv.html\n",
    "cols = [1] #for more, https://stackoverflow.com/questions/48641632/extracting-specific-columns-from-pandas-dataframe\n",
    "\n",
    "Ed_arch_no_scour = Ed_arch_no_scour[Ed_arch_no_scour.columns[cols]]\n",
    "Ed_arch_no_scour = Ed_arch_no_scour.values #for more, https://stackoverflow.com/questions/44238796/convert-pandas-series-into-numpy-array\n",
    "type(Ed_arch_no_scour)\n",
    "Ed_arch_no_scour[0:5]"
   ]
  },
  {
   "cell_type": "code",
   "execution_count": 66,
   "metadata": {},
   "outputs": [
    {
     "data": {
      "text/plain": [
       "array([[376.67048419],\n",
       "       [273.42175287],\n",
       "       [393.22642047],\n",
       "       [376.57159136],\n",
       "       [374.36484198]])"
      ]
     },
     "execution_count": 66,
     "metadata": {},
     "output_type": "execute_result"
    }
   ],
   "source": [
    "Rd_arch_no_scour = pd.read_csv(\"capacity.csv\") #for the no scour case\n",
    "Rd_arch_no_scour = Rd_arch_no_scour[Rd_arch_no_scour.columns[cols]]\n",
    "Rd_arch_no_scour = Rd_arch_no_scour.values #for more, https://stackoverflow.com/questions/44238796/convert-pandas-series-into-numpy-array\n",
    "type(Rd_arch_no_scour)\n",
    "Rd_arch_no_scour[0:5]"
   ]
  },
  {
   "cell_type": "code",
   "execution_count": 67,
   "metadata": {},
   "outputs": [
    {
     "data": {
      "text/plain": [
       "array([[264.55624098],\n",
       "       [216.60730032],\n",
       "       [272.24485464],\n",
       "       [264.51031493],\n",
       "       [263.4854956 ]])"
      ]
     },
     "execution_count": 67,
     "metadata": {},
     "output_type": "execute_result"
    }
   ],
   "source": [
    "Fi = 0.9\n",
    "Ed_arch_scour = Ed_arch_no_scour/Fi #for the scour case\n",
    "Ed_arch_scour[0:5]"
   ]
  },
  {
   "cell_type": "code",
   "execution_count": 68,
   "metadata": {},
   "outputs": [
    {
     "data": {
      "text/plain": [
       "array([[162.90998441],\n",
       "       [118.25490812],\n",
       "       [170.07042685],\n",
       "       [162.86721326],\n",
       "       [161.91279416]])"
      ]
     },
     "execution_count": 68,
     "metadata": {},
     "output_type": "execute_result"
    }
   ],
   "source": [
    "Fc = 0.173\n",
    "fi = 0.4\n",
    "Rd_arch_scour = (Rd_arch_no_scour/fi) * Fc #for the scour case\n",
    "Rd_arch_scour[0:5]"
   ]
  },
  {
   "cell_type": "code",
   "execution_count": 69,
   "metadata": {},
   "outputs": [
    {
     "data": {
      "text/plain": [
       "array([[138.56986731],\n",
       "       [ 78.47518259],\n",
       "       [148.20605129],\n",
       "       [138.51230793],\n",
       "       [137.22789594]])"
      ]
     },
     "execution_count": 69,
     "metadata": {},
     "output_type": "execute_result"
    }
   ],
   "source": [
    "safety_margin_no_scour = Rd_arch_no_scour - Ed_arch_no_scour\n",
    "safety_margin_no_scour[0:5]"
   ]
  },
  {
   "cell_type": "code",
   "execution_count": 70,
   "metadata": {},
   "outputs": [
    {
     "data": {
      "text/plain": [
       "array([[-101.64625657],\n",
       "       [ -98.3523922 ],\n",
       "       [-102.17442779],\n",
       "       [-101.64310167],\n",
       "       [-101.57270145]])"
      ]
     },
     "execution_count": 70,
     "metadata": {},
     "output_type": "execute_result"
    }
   ],
   "source": [
    "safety_margin_scour = Rd_arch_scour - Ed_arch_scour\n",
    "safety_margin_scour[0:5]"
   ]
  },
  {
   "cell_type": "code",
   "execution_count": 71,
   "metadata": {},
   "outputs": [],
   "source": [
    "pd.DataFrame(safety_margin_no_scour).to_csv(\"safety_margin_no_scour_arch.csv\")\n",
    "pd.DataFrame(safety_margin_scour).to_csv(\"safety_margin_scour_arch.csv\")\n"
   ]
  },
  {
   "cell_type": "code",
   "execution_count": 72,
   "metadata": {},
   "outputs": [
    {
     "data": {
      "text/plain": [
       "[array([[False],\n",
       "        [False],\n",
       "        [False],\n",
       "        ...,\n",
       "        [False],\n",
       "        [False],\n",
       "        [False]])]"
      ]
     },
     "execution_count": 72,
     "metadata": {},
     "output_type": "execute_result"
    }
   ],
   "source": [
    "failure_cases_no_scour = [safety_margin_no_scour <=0]\n",
    "failure_cases_no_scour[0:5]"
   ]
  },
  {
   "cell_type": "code",
   "execution_count": 73,
   "metadata": {},
   "outputs": [],
   "source": [
    "import numpy as np"
   ]
  },
  {
   "cell_type": "code",
   "execution_count": 74,
   "metadata": {},
   "outputs": [
    {
     "name": "stdout",
     "output_type": "stream",
     "text": [
      "0\n"
     ]
    }
   ],
   "source": [
    "failure_cases_no_scour_number = np.count_nonzero(failure_cases_no_scour) #for more, https://thispointer.com/count-number-of-true-elements-in-a-numpy-array-in-python/#1\n",
    "print(failure_cases_no_scour_number)"
   ]
  },
  {
   "cell_type": "code",
   "execution_count": 75,
   "metadata": {},
   "outputs": [
    {
     "data": {
      "text/plain": [
       "array([[ True],\n",
       "       [ True],\n",
       "       [ True],\n",
       "       [ True],\n",
       "       [ True]])"
      ]
     },
     "execution_count": 75,
     "metadata": {},
     "output_type": "execute_result"
    }
   ],
   "source": [
    "failure_cases_scour = safety_margin_scour <=0\n",
    "failure_cases_scour[0:5]"
   ]
  },
  {
   "cell_type": "code",
   "execution_count": 76,
   "metadata": {},
   "outputs": [
    {
     "name": "stdout",
     "output_type": "stream",
     "text": [
      "100000\n"
     ]
    }
   ],
   "source": [
    "failure_cases_scour_number = failure_cases_scour.sum() #for more, https://thispointer.com/count-number-of-true-elements-in-a-numpy-array-in-python/#1\n",
    "print(failure_cases_scour_number)"
   ]
  },
  {
   "cell_type": "code",
   "execution_count": 77,
   "metadata": {},
   "outputs": [
    {
     "name": "stdout",
     "output_type": "stream",
     "text": [
      "100000\n",
      "0.0\n",
      "1.0\n"
     ]
    }
   ],
   "source": [
    "no_samples = len(Ed_arch_no_scour) #for more, https://stackoverflow.com/questions/13921647/python-dimension-of-data-frame\n",
    "print(no_samples)\n",
    "\n",
    "failure_probability_no_scour = failure_cases_no_scour_number/no_samples\n",
    "print(failure_probability_no_scour)\n",
    "\n",
    "failure_probability_scour = failure_cases_scour_number/no_samples\n",
    "print(failure_probability_scour)"
   ]
  }
 ],
 "metadata": {
  "kernelspec": {
   "display_name": "Python 3.9.7 ('base')",
   "language": "python",
   "name": "python3"
  },
  "language_info": {
   "codemirror_mode": {
    "name": "ipython",
    "version": 3
   },
   "file_extension": ".py",
   "mimetype": "text/x-python",
   "name": "python",
   "nbconvert_exporter": "python",
   "pygments_lexer": "ipython3",
   "version": "3.9.7"
  },
  "orig_nbformat": 4,
  "vscode": {
   "interpreter": {
    "hash": "40d3a090f54c6569ab1632332b64b2c03c39dcf918b08424e98f38b5ae0af88f"
   }
  }
 },
 "nbformat": 4,
 "nbformat_minor": 2
}
