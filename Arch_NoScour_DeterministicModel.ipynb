{
 "cells": [
  {
   "cell_type": "markdown",
   "metadata": {},
   "source": [
    "Shortcuts for jupyter notebooks in VSCode on mac at https://gist.github.com/pep4climate/bd7e5f0a04fe8b39698da876453750d0"
   ]
  },
  {
   "cell_type": "code",
   "execution_count": 1,
   "metadata": {},
   "outputs": [],
   "source": [
    "import math #math documentation at https://docs.python.org/3/library/math.html\n",
    "pi = math.pi"
   ]
  },
  {
   "cell_type": "markdown",
   "metadata": {},
   "source": [
    "Geometry values"
   ]
  },
  {
   "cell_type": "code",
   "execution_count": 2,
   "metadata": {},
   "outputs": [
    {
     "name": "stdout",
     "output_type": "stream",
     "text": [
      "3.45 3.95 3.70\n"
     ]
    }
   ],
   "source": [
    "L = round(9260/1000, 3) #m\n",
    "r_i = round(3450/1000, 3) #m\n",
    "t = round(500/1000, 3) #m\n",
    "r_e = round(3950/1000, 3) #m\n",
    "r = round(1/2*(r_i + r_e), 3) #m\n",
    "\n",
    "print(f'{r_i:.2f}', f'{r_e:.2f}', f'{r:.2f}') #round decimals example at https://kodify.net/python/math/round-decimals/"
   ]
  },
  {
   "cell_type": "markdown",
   "metadata": {},
   "source": [
    "Physical and mechanical properties"
   ]
  },
  {
   "cell_type": "code",
   "execution_count": 3,
   "metadata": {},
   "outputs": [],
   "source": [
    "gamma_b = 22 #kN/m3\n",
    "fm_b = 8 #MPa"
   ]
  },
  {
   "cell_type": "code",
   "execution_count": 4,
   "metadata": {},
   "outputs": [],
   "source": [
    "b = 1 #m -investigated arch barrel slice-"
   ]
  },
  {
   "cell_type": "code",
   "execution_count": 5,
   "metadata": {},
   "outputs": [
    {
     "name": "stdout",
     "output_type": "stream",
     "text": [
      "12.254174844408688\n",
      "9.348201639838129\n",
      "2.905973204570559\n"
     ]
    }
   ],
   "source": [
    "A_e = (1/4)*(pi * math.pow(r_e, 2)) #m2\n",
    "print(A_e)\n",
    "\n",
    "A_i = (1/4)*(pi * math.pow(r_i, 2)) #m2\n",
    "print(A_i)\n",
    "\n",
    "A = (A_e-A_i)\n",
    "print(A)"
   ]
  },
  {
   "cell_type": "code",
   "execution_count": 6,
   "metadata": {},
   "outputs": [
    {
     "name": "stdout",
     "output_type": "stream",
     "text": [
      "63.93\n"
     ]
    }
   ],
   "source": [
    "P = gamma_b * A * b \n",
    "print(f'{P:.2f}')"
   ]
  },
  {
   "cell_type": "markdown",
   "metadata": {},
   "source": [
    "Reference application points of loads"
   ]
  },
  {
   "cell_type": "code",
   "execution_count": 7,
   "metadata": {},
   "outputs": [
    {
     "name": "stdout",
     "output_type": "stream",
     "text": [
      "2.95\n",
      "3.17\n",
      "2.27\n"
     ]
    }
   ],
   "source": [
    "xp_re = 1/2 * L - (4/(3*pi)*r_e) #m\n",
    "print(f'{xp_re:.2f}')\n",
    "\n",
    "xp_ri = 1/2 * L - (4/(3*pi)*r_i) #m\n",
    "print(f'{xp_ri:.2f}')\n",
    "\n",
    "xp = ((xp_re*A_e)-(xp_ri*A_i))/A #m\n",
    "print(f'{xp:.2f}')"
   ]
  },
  {
   "cell_type": "code",
   "execution_count": 8,
   "metadata": {},
   "outputs": [
    {
     "name": "stdout",
     "output_type": "stream",
     "text": [
      "38.37\n",
      "63.93\n",
      "74.56\n"
     ]
    }
   ],
   "source": [
    "H_a = (xp * P)/(2/3*t + r_i) #kN\n",
    "print(f'{H_a:.2f}')\n",
    "\n",
    "V_a = P #kN\n",
    "print(f'{V_a:.2f}')\n",
    "\n",
    "S_a = math.sqrt(math.pow(H_a, 2) + math.pow(V_a, 2)) #kN\n",
    "print(f'{S_a:.2f}')\n"
   ]
  },
  {
   "cell_type": "markdown",
   "metadata": {},
   "source": [
    "Compression stress check"
   ]
  },
  {
   "cell_type": "code",
   "execution_count": 9,
   "metadata": {},
   "outputs": [],
   "source": [
    "gamma_fL = 1.15\n",
    "gamma_f_three = 1.0\n",
    "e = t/6 #m\n",
    "CF = 1\n",
    "delta = 0.85\n",
    "K = 0.50\n",
    "alfa = 0.7\n",
    "beta = 0.3\n",
    "f_m = 4 #MPa"
   ]
  },
  {
   "cell_type": "code",
   "execution_count": 10,
   "metadata": {},
   "outputs": [
    {
     "data": {
      "text/plain": [
       "2.8996410582174934"
      ]
     },
     "execution_count": 10,
     "metadata": {},
     "output_type": "execute_result"
    }
   ],
   "source": [
    "f_b = CF * delta * fm_b #MPa\n",
    "f_k = K * math.pow(f_b, alfa) * math.pow(f_m, beta) #MPa\n",
    "f_k"
   ]
  },
  {
   "cell_type": "code",
   "execution_count": 11,
   "metadata": {},
   "outputs": [
    {
     "name": "stdout",
     "output_type": "stream",
     "text": [
      "386.62\n"
     ]
    }
   ],
   "source": [
    "R_d = 0.4 * b * f_k * (t-2*e)*1000 #kN\n",
    "print(f'{R_d:.2f}')"
   ]
  },
  {
   "cell_type": "code",
   "execution_count": 12,
   "metadata": {},
   "outputs": [
    {
     "data": {
      "text/plain": [
       "85.74884759405299"
      ]
     },
     "execution_count": 12,
     "metadata": {},
     "output_type": "execute_result"
    }
   ],
   "source": [
    "E_d = gamma_fL * gamma_f_three * S_a #kN\n",
    "E_d"
   ]
  },
  {
   "cell_type": "code",
   "execution_count": 13,
   "metadata": {},
   "outputs": [
    {
     "data": {
      "text/plain": [
       "True"
      ]
     },
     "execution_count": 13,
     "metadata": {},
     "output_type": "execute_result"
    }
   ],
   "source": [
    "E_d <= R_d"
   ]
  }
 ],
 "metadata": {
  "kernelspec": {
   "display_name": "Python 3.9.7 ('base')",
   "language": "python",
   "name": "python3"
  },
  "language_info": {
   "codemirror_mode": {
    "name": "ipython",
    "version": 3
   },
   "file_extension": ".py",
   "mimetype": "text/x-python",
   "name": "python",
   "nbconvert_exporter": "python",
   "pygments_lexer": "ipython3",
   "version": "3.9.7"
  },
  "orig_nbformat": 4,
  "vscode": {
   "interpreter": {
    "hash": "40d3a090f54c6569ab1632332b64b2c03c39dcf918b08424e98f38b5ae0af88f"
   }
  }
 },
 "nbformat": 4,
 "nbformat_minor": 2
}
