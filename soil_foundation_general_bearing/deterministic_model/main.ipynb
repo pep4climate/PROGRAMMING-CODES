{
 "cells": [
  {
   "cell_type": "code",
   "execution_count": null,
   "metadata": {},
   "outputs": [],
   "source": [
    "import models\n",
    "import capacity_brinch_hansen"
   ]
  },
  {
   "cell_type": "code",
   "execution_count": null,
   "metadata": {},
   "outputs": [],
   "source": [
    "sl = models.create_soil(30, 0, 14.1, 18.5, 0)\n",
    "\n",
    "fd = models.create_foundation(2.80, 4.80, 1)\n",
    "\n",
    "lat_sl = models.create_lateral_soil(0, 0)\n",
    "\n",
    "gw = models.create_groundwater(0)\n",
    "\n",
    "loads = models.create_loads(0, 0, 0, 0)\n",
    "\n",
    "rvr = models.create_river(1.5)\n",
    "\n",
    "sl_fd = models.create_soil_foundation()"
   ]
  },
  {
   "cell_type": "code",
   "execution_count": null,
   "metadata": {},
   "outputs": [],
   "source": [
    "capacity_brinch_hansen.capacity_brinch_hansen(sl, fd, lat_sl, gw, loads, rvr, sl_fd)"
   ]
  }
 ],
 "metadata": {
  "kernelspec": {
   "display_name": "base",
   "language": "python",
   "name": "python3"
  },
  "language_info": {
   "codemirror_mode": {
    "name": "ipython",
    "version": 3
   },
   "file_extension": ".py",
   "mimetype": "text/x-python",
   "name": "python",
   "nbconvert_exporter": "python",
   "pygments_lexer": "ipython3",
   "version": "3.9.7"
  },
  "orig_nbformat": 4
 },
 "nbformat": 4,
 "nbformat_minor": 2
}
