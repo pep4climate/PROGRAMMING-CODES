{
 "cells": [
  {
   "cell_type": "code",
   "execution_count": 1,
   "metadata": {},
   "outputs": [],
   "source": [
    "import models\n",
    "import capacity_brinch_hansen"
   ]
  },
  {
   "attachments": {},
   "cell_type": "markdown",
   "metadata": {},
   "source": [
    "Input object input data between brackets\\\n",
    "Unit measures are kN, m, s"
   ]
  },
  {
   "cell_type": "code",
   "execution_count": 2,
   "metadata": {},
   "outputs": [],
   "source": [
    "sl = models.create_soil(0, 20, 14.10, 18.50, 0)\n",
    "\n",
    "fd = models.create_foundation(2.00, 2.00, 1.5)\n",
    "\n",
    "lat_sl = models.create_lateral_soil(1.5, 0)\n",
    "\n",
    "gw = models.create_groundwater(0)\n",
    "\n",
    "loads = models.create_loads(0, 0, 0, 0)\n",
    "\n",
    "rvr = models.create_river(0)\n",
    "\n",
    "sl_fd = models.create_soil_foundation()"
   ]
  },
  {
   "cell_type": "code",
   "execution_count": 3,
   "metadata": {},
   "outputs": [
    {
     "name": "stdout",
     "output_type": "stream",
     "text": [
      "The first term of general bearing capacity is  0.0  kPa.\n",
      "The second term of general bearing capacity is  13.03  kPa.\n",
      "The third term of general bearing capacity is  -0.0  kPa.\n",
      "The general bearing capacity is  13.03  kPa.\n",
      "The general bearing capacity force is  52.14  kN. \n",
      "\n",
      "Variables of the first therm of q_ult\n",
      "c is  20  kPa\n",
      "N_c is  5.14\n",
      "b_c is  1.0\n",
      "s_c is  1.2\n",
      "i_c is  1.0\n",
      "d_c is  0.3\n",
      "g_c is  0.0 \n",
      "\n",
      "Variables of the second therm of q_ult\n",
      "q is  13.04  kPa\n",
      "N_q is  1.0\n",
      "b_q is  1.0\n",
      "s_q is  1.0\n",
      "i_q is  1\n",
      "d_q is  1.0\n",
      "g_q is  1.0 \n",
      "\n",
      "Variables of the third therm of q_ult\n",
      "Equivalent soil unit weight is  8.69 kN/m³\n",
      "N_gamma is  -0.0\n",
      "B_prime is  2.0  m\n",
      "b_gamma is  1.0\n",
      "s_gamma is  0.7\n",
      "i_gamma is  1\n",
      "d_gamma is  1\n",
      "g_gamma is  1.0\n"
     ]
    }
   ],
   "source": [
    "capacity_brinch_hansen.capacity_brinch_hansen(sl, fd, lat_sl, gw, loads, rvr, sl_fd)"
   ]
  }
 ],
 "metadata": {
  "kernelspec": {
   "display_name": "base",
   "language": "python",
   "name": "python3"
  },
  "language_info": {
   "codemirror_mode": {
    "name": "ipython",
    "version": 3
   },
   "file_extension": ".py",
   "mimetype": "text/x-python",
   "name": "python",
   "nbconvert_exporter": "python",
   "pygments_lexer": "ipython3",
   "version": "3.9.7"
  },
  "orig_nbformat": 4
 },
 "nbformat": 4,
 "nbformat_minor": 2
}
