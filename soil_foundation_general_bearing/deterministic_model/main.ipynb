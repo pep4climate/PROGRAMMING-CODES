{
 "cells": [
  {
   "attachments": {},
   "cell_type": "markdown",
   "metadata": {},
   "source": [
    "Import modules"
   ]
  },
  {
   "cell_type": "code",
   "execution_count": 41,
   "metadata": {},
   "outputs": [],
   "source": [
    "import models\n",
    "import capacity_brinch_hansen"
   ]
  },
  {
   "attachments": {},
   "cell_type": "markdown",
   "metadata": {},
   "source": [
    "Input object input data between brackets\\\n",
    "Unit measures are kN, m, s"
   ]
  },
  {
   "cell_type": "code",
   "execution_count": 42,
   "metadata": {},
   "outputs": [],
   "source": [
    "# import numpy as np"
   ]
  },
  {
   "cell_type": "code",
   "execution_count": 43,
   "metadata": {},
   "outputs": [],
   "source": [
    "# lateral_soil_depth_vector = np.linspace(1, 0, 11)"
   ]
  },
  {
   "cell_type": "code",
   "execution_count": 44,
   "metadata": {},
   "outputs": [],
   "source": [
    "sl = models.create_soil(friction_angle = 30, cohesion = 0, dry_unit_weight = 14.10, saturated_unit_weight = 18.50, alpha = 0)\n",
    "\n",
    "fd = models.create_foundation(longitudinal_width = 0.00, transverse_width = 2.80, foundation_depth = 1.50)\n",
    "\n",
    "lat_sl = models.create_lateral_soil(lateral_soil_depth = 0.0, beta = 25)\n",
    "\n",
    "gw = models.create_groundwater(groundwater_depth = 0)\n",
    "\n",
    "loads = models.create_loads(horizontal_load = 0, vertical_load = 0, moment_bridge_transverse = 0, moment_bridge_longitudinal = 0)\n",
    "\n",
    "rvr = models.create_river(river_level = 0)\n",
    "\n",
    "sl_fd = models.create_soil_foundation()"
   ]
  },
  {
   "attachments": {},
   "cell_type": "markdown",
   "metadata": {},
   "source": [
    "Call the capacity_brinch_hansen function"
   ]
  },
  {
   "cell_type": "code",
   "execution_count": 45,
   "metadata": {},
   "outputs": [
    {
     "name": "stdout",
     "output_type": "stream",
     "text": [
      "The first term of general bearing capacity is  0.0  kPa.\n",
      "The second term of general bearing capacity is  0.0  kPa.\n",
      "The third term of general bearing capacity is  0.0  kPa.\n",
      "The general bearing capacity is  0.0  kPa.\n",
      "The general bearing capacity force is  0.0  kN. \n",
      "\n",
      "Variables of the first therm of q_ult\n",
      "c is  0  kPa\n",
      "N_c is  30.14\n",
      "b_c is  1.0\n",
      "s_c is  1.0\n",
      "i_c is  1\n",
      "d_c is  1\n",
      "g_c is  0.83 \n",
      "\n",
      "Variables of the second therm of q_ult\n",
      "q is  0.0  kPa\n",
      "N_q is  18.4\n",
      "b_q is  1.0\n",
      "s_q is  1.0\n",
      "i_q is  1\n",
      "d_q is  1\n",
      "g_q is  0.59 \n",
      "\n",
      "Variables of the third therm of q_ult\n",
      "Equivalent soil unit weight is  8.69 kN/m³\n",
      "N_gamma is  20.09\n",
      "B_prime is  0.0  m\n",
      "b_gamma is  1.0\n",
      "s_gamma is  1.0\n",
      "i_gamma is  1\n",
      "d_gamma is  1\n",
      "g_gamma is  0.59\n"
     ]
    }
   ],
   "source": [
    "capacity_brinch_hansen.capacity_brinch_hansen(sl, fd, lat_sl, gw, loads, rvr, sl_fd)"
   ]
  }
 ],
 "metadata": {
  "kernelspec": {
   "display_name": "base",
   "language": "python",
   "name": "python3"
  },
  "language_info": {
   "codemirror_mode": {
    "name": "ipython",
    "version": 3
   },
   "file_extension": ".py",
   "mimetype": "text/x-python",
   "name": "python",
   "nbconvert_exporter": "python",
   "pygments_lexer": "ipython3",
   "version": "3.9.7"
  },
  "orig_nbformat": 4
 },
 "nbformat": 4,
 "nbformat_minor": 2
}
