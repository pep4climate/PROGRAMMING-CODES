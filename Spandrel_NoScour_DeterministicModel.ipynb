{
 "cells": [
  {
   "cell_type": "code",
   "execution_count": 75,
   "metadata": {},
   "outputs": [],
   "source": [
    "import math"
   ]
  },
  {
   "cell_type": "code",
   "execution_count": 76,
   "metadata": {},
   "outputs": [],
   "source": [
    "h_sw = 0.6 #m\n",
    "r_e = 3950/1000 #m\n",
    "r_i = 3450/1000 #m\n",
    "H_sw = h_sw + r_e #m\n",
    "B_p = 1.80 #m\n",
    "L = 9260/1000 #m\n",
    "t = 500/1000 #m"
   ]
  },
  {
   "cell_type": "code",
   "execution_count": 78,
   "metadata": {},
   "outputs": [],
   "source": [
    "b = 1 #m -investigated arch barrel slice-"
   ]
  },
  {
   "cell_type": "code",
   "execution_count": 91,
   "metadata": {},
   "outputs": [
    {
     "name": "stdout",
     "output_type": "stream",
     "text": [
      "6.096166666666666\n",
      "2.778\n",
      "0.54\n",
      "9.414166666666667\n"
     ]
    }
   ],
   "source": [
    "pi = math.pi\n",
    "\n",
    "A_one = (1/3)*(L/2)*r_e #m2\n",
    "print(A_one)\n",
    "\n",
    "A_two = h_sw*(L/2) #m2\n",
    "print(A_two)\n",
    "\n",
    "A_three = (B_p/2)*h_sw\n",
    "print(A_three)\n",
    "\n",
    "A_sw = A_one+A_two+A_three\n",
    "print(A_sw)"
   ]
  },
  {
   "cell_type": "code",
   "execution_count": 80,
   "metadata": {},
   "outputs": [
    {
     "name": "stdout",
     "output_type": "stream",
     "text": [
      "124.27\n"
     ]
    }
   ],
   "source": [
    "b_sw = 0.6 #m\n",
    "P_sw = gamma_sw * A_sw * b_sw #kN\n",
    "print(f'{P_sw:.2f}')"
   ]
  },
  {
   "cell_type": "code",
   "execution_count": 81,
   "metadata": {},
   "outputs": [],
   "source": [
    "V_a = P_sw #kN"
   ]
  },
  {
   "cell_type": "code",
   "execution_count": 82,
   "metadata": {},
   "outputs": [
    {
     "name": "stdout",
     "output_type": "stream",
     "text": [
      "1.2824999999999998\n",
      "2.065\n",
      "0.7000000000000002\n"
     ]
    }
   ],
   "source": [
    "x_one_signed = (3/4)*(L/2+t) #it is assumed that the projection of t on the horizontal is almost t\n",
    "x_one_prime = (L/2+t)-x_one_signed\n",
    "print(x_one_prime)\n",
    "\n",
    "x_two_signed = (1/2)*(L/2+t)\n",
    "x_two_prime = (L/2+t)-x_two_signed-t\n",
    "print(x_two_prime)\n",
    "\n",
    "x_three_signed = (B_p/2-t)/2 + t + L/2\n",
    "x_three_prime = x_three_signed - L/2\n",
    "print(x_three_prime)"
   ]
  },
  {
   "cell_type": "code",
   "execution_count": 83,
   "metadata": {},
   "outputs": [
    {
     "name": "stdout",
     "output_type": "stream",
     "text": [
      "1.4799933168097723\n"
     ]
    }
   ],
   "source": [
    "x_sw = (A_one * x_one_prime + A_two * x_two_prime + A_three * x_three_prime)/A_sw #m\n",
    "print(x_sw)"
   ]
  },
  {
   "cell_type": "code",
   "execution_count": 84,
   "metadata": {},
   "outputs": [
    {
     "name": "stdout",
     "output_type": "stream",
     "text": [
      "48.61171704845814\n"
     ]
    }
   ],
   "source": [
    "H_c = (x_sw * P_sw)/(2/3*t + r_i)\n",
    "print(H_c)"
   ]
  },
  {
   "cell_type": "code",
   "execution_count": 85,
   "metadata": {},
   "outputs": [
    {
     "name": "stdout",
     "output_type": "stream",
     "text": [
      "133.43682521477854\n"
     ]
    }
   ],
   "source": [
    "S_a = math.sqrt(math.pow(H_c, 2) + math.pow(V_a, 2)) #kN\n",
    "print(S_a)"
   ]
  },
  {
   "cell_type": "code",
   "execution_count": 86,
   "metadata": {},
   "outputs": [],
   "source": [
    "gamma_fL = 1.15\n",
    "gamma_f_three = 1.0\n",
    "e = t/6 #m\n",
    "CF = 1\n",
    "delta = 0.85\n",
    "K = 0.50\n",
    "alfa = 0.7\n",
    "beta = 0.3\n",
    "f_m = 4 #MPa\n",
    "fm_b = 8 #MPa"
   ]
  },
  {
   "cell_type": "code",
   "execution_count": 87,
   "metadata": {},
   "outputs": [
    {
     "data": {
      "text/plain": [
       "2.8996410582174934"
      ]
     },
     "execution_count": 87,
     "metadata": {},
     "output_type": "execute_result"
    }
   ],
   "source": [
    "f_b = CF * delta * fm_b #MPa\n",
    "f_k = K * math.pow(f_b, alfa) * math.pow(f_m, beta) #MPa\n",
    "f_k"
   ]
  },
  {
   "cell_type": "code",
   "execution_count": 88,
   "metadata": {},
   "outputs": [
    {
     "name": "stdout",
     "output_type": "stream",
     "text": [
      "386.62\n"
     ]
    }
   ],
   "source": [
    "R_d = 0.4 * b * f_k * (t-2*e)*1000 #kN\n",
    "print(f'{R_d:.2f}')"
   ]
  },
  {
   "cell_type": "code",
   "execution_count": 89,
   "metadata": {},
   "outputs": [
    {
     "data": {
      "text/plain": [
       "153.4523489969953"
      ]
     },
     "execution_count": 89,
     "metadata": {},
     "output_type": "execute_result"
    }
   ],
   "source": [
    "E_d = gamma_fL * gamma_f_three * S_a #kN\n",
    "E_d"
   ]
  },
  {
   "cell_type": "code",
   "execution_count": 90,
   "metadata": {},
   "outputs": [
    {
     "data": {
      "text/plain": [
       "True"
      ]
     },
     "execution_count": 90,
     "metadata": {},
     "output_type": "execute_result"
    }
   ],
   "source": [
    "E_d <= R_d"
   ]
  },
  {
   "cell_type": "code",
   "execution_count": null,
   "metadata": {},
   "outputs": [],
   "source": []
  }
 ],
 "metadata": {
  "kernelspec": {
   "display_name": "Python 3.9.7 ('base')",
   "language": "python",
   "name": "python3"
  },
  "language_info": {
   "codemirror_mode": {
    "name": "ipython",
    "version": 3
   },
   "file_extension": ".py",
   "mimetype": "text/x-python",
   "name": "python",
   "nbconvert_exporter": "python",
   "pygments_lexer": "ipython3",
   "version": "3.9.7"
  },
  "orig_nbformat": 4,
  "vscode": {
   "interpreter": {
    "hash": "40d3a090f54c6569ab1632332b64b2c03c39dcf918b08424e98f38b5ae0af88f"
   }
  }
 },
 "nbformat": 4,
 "nbformat_minor": 2
}
