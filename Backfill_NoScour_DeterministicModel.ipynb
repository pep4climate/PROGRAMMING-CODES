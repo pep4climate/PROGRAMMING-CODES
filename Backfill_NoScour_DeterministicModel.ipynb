{
 "cells": [
  {
   "cell_type": "code",
   "execution_count": 15,
   "metadata": {},
   "outputs": [],
   "source": [
    "import math"
   ]
  },
  {
   "cell_type": "code",
   "execution_count": 33,
   "metadata": {},
   "outputs": [],
   "source": [
    "Width_road = 3.80 #m\n",
    "\n",
    "gamma_bfill=19 #kN/m3\n",
    "\n",
    "b_bfill = 1 #\n",
    "\n",
    "fm_b = 8 #MPa"
   ]
  },
  {
   "cell_type": "code",
   "execution_count": 34,
   "metadata": {},
   "outputs": [],
   "source": [
    "h_sw = 0.6 #m\n",
    "r_e = 3950/1000 #m\n",
    "r_i = 3450/1000 #m\n",
    "H_sw = h_sw + r_e #m\n",
    "B_p = 1.80 #m\n",
    "L = 9260/1000 #m\n",
    "t = 500/1000 #m"
   ]
  },
  {
   "cell_type": "code",
   "execution_count": 35,
   "metadata": {},
   "outputs": [],
   "source": [
    "A_sw = 9.42 #m2\n",
    "A_bfill = A_sw #m2"
   ]
  },
  {
   "cell_type": "code",
   "execution_count": 36,
   "metadata": {},
   "outputs": [
    {
     "name": "stdout",
     "output_type": "stream",
     "text": [
      "178.98\n"
     ]
    }
   ],
   "source": [
    "P_bfill = gamma_bfill * A_sw * b_bfill #kN\n",
    "print(P_bfill)"
   ]
  },
  {
   "cell_type": "code",
   "execution_count": 37,
   "metadata": {},
   "outputs": [],
   "source": [
    "V_a = P_bfill #kN"
   ]
  },
  {
   "cell_type": "code",
   "execution_count": 38,
   "metadata": {},
   "outputs": [],
   "source": [
    "A_sq = (L/2+B_p/2)*H_sw #mq\n",
    "pi = math.pi #mq\n",
    "A_e=pi*(math.pow(r_e,2))/4 #mq"
   ]
  },
  {
   "cell_type": "code",
   "execution_count": 56,
   "metadata": {},
   "outputs": [],
   "source": [
    "x_sq = (L/2+B_p/2)/2-(B_p/2+t) #m\n",
    "x_e = L/2 - (4/(3*pi))*r_e #m"
   ]
  },
  {
   "cell_type": "code",
   "execution_count": 57,
   "metadata": {},
   "outputs": [],
   "source": [
    "x_bfill = (A_sq*x_sq-A_e*x_e)/A_bfill #m"
   ]
  },
  {
   "cell_type": "code",
   "execution_count": 58,
   "metadata": {},
   "outputs": [
    {
     "name": "stdout",
     "output_type": "stream",
     "text": [
      "179.22047959400027\n"
     ]
    }
   ],
   "source": [
    "H_c = (x_bfill*P_bfill)/(2/3*t+r_i) #kN\n",
    "S_a = math.sqrt(math.pow(H_c,2)+math.pow(V_a,2)) #kN\n",
    "print(S_a)"
   ]
  },
  {
   "cell_type": "code",
   "execution_count": 59,
   "metadata": {},
   "outputs": [],
   "source": [
    "gamma_fL = 1.15\n",
    "gamma_f_three = 1.0\n",
    "e = t/6 #m\n",
    "CF = 1\n",
    "delta = 0.85\n",
    "K = 0.50\n",
    "alfa = 0.7\n",
    "beta = 0.3\n",
    "f_m = 4 #MPa"
   ]
  },
  {
   "cell_type": "code",
   "execution_count": 60,
   "metadata": {},
   "outputs": [
    {
     "data": {
      "text/plain": [
       "2.8996410582174934"
      ]
     },
     "execution_count": 60,
     "metadata": {},
     "output_type": "execute_result"
    }
   ],
   "source": [
    "f_b = CF * delta * fm_b #MPa\n",
    "f_k = K * math.pow(f_b, alfa) * math.pow(f_m, beta) #MPa\n",
    "f_k"
   ]
  },
  {
   "cell_type": "code",
   "execution_count": 61,
   "metadata": {},
   "outputs": [],
   "source": [
    "b = 1 #m -investigated arch barrel slice-"
   ]
  },
  {
   "cell_type": "code",
   "execution_count": 62,
   "metadata": {},
   "outputs": [
    {
     "name": "stdout",
     "output_type": "stream",
     "text": [
      "386.62\n"
     ]
    }
   ],
   "source": [
    "R_d = 0.4 * b * f_k * (t-2*e)*1000 #kN\n",
    "print(f'{R_d:.2f}')"
   ]
  },
  {
   "cell_type": "code",
   "execution_count": 63,
   "metadata": {},
   "outputs": [
    {
     "data": {
      "text/plain": [
       "206.1035515331003"
      ]
     },
     "execution_count": 63,
     "metadata": {},
     "output_type": "execute_result"
    }
   ],
   "source": [
    "E_d = gamma_fL * gamma_f_three * S_a #kN\n",
    "E_d"
   ]
  },
  {
   "cell_type": "code",
   "execution_count": 64,
   "metadata": {},
   "outputs": [
    {
     "data": {
      "text/plain": [
       "True"
      ]
     },
     "execution_count": 64,
     "metadata": {},
     "output_type": "execute_result"
    }
   ],
   "source": [
    "E_d <= R_d"
   ]
  }
 ],
 "metadata": {
  "kernelspec": {
   "display_name": "Python 3.9.7 ('base')",
   "language": "python",
   "name": "python3"
  },
  "language_info": {
   "codemirror_mode": {
    "name": "ipython",
    "version": 3
   },
   "file_extension": ".py",
   "mimetype": "text/x-python",
   "name": "python",
   "nbconvert_exporter": "python",
   "pygments_lexer": "ipython3",
   "version": "3.9.7"
  },
  "orig_nbformat": 4,
  "vscode": {
   "interpreter": {
    "hash": "40d3a090f54c6569ab1632332b64b2c03c39dcf918b08424e98f38b5ae0af88f"
   }
  }
 },
 "nbformat": 4,
 "nbformat_minor": 2
}
