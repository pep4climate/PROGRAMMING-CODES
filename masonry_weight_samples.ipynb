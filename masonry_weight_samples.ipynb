{
 "cells": [
  {
   "cell_type": "code",
   "execution_count": 39,
   "metadata": {},
   "outputs": [],
   "source": [
    "gamma_b_nom = 22 #kN/m3\n",
    "gamma_b_cv = 10/100 \n",
    "gamma_b_std = gamma_b_cv * gamma_b_nom #kN/m3"
   ]
  },
  {
   "cell_type": "code",
   "execution_count": 75,
   "metadata": {},
   "outputs": [
    {
     "name": "stdout",
     "output_type": "stream",
     "text": [
      "[1, 2, 3]\n"
     ]
    }
   ],
   "source": [
    "gamma_b = []\n",
    "\n",
    "no_samples = list(range(1,4))\n",
    "print(no_samples)"
   ]
  },
  {
   "cell_type": "code",
   "execution_count": 76,
   "metadata": {},
   "outputs": [
    {
     "data": {
      "text/plain": [
       "[]"
      ]
     },
     "execution_count": 76,
     "metadata": {},
     "output_type": "execute_result"
    }
   ],
   "source": [
    "# gamma_b = gamma_b_nom + no_samples[0] * gamma_b_std\n",
    "gamma_b"
   ]
  },
  {
   "cell_type": "code",
   "execution_count": 77,
   "metadata": {},
   "outputs": [
    {
     "name": "stdout",
     "output_type": "stream",
     "text": [
      "[1, 2, 3]\n",
      "[1, 2, 3]\n",
      "[1, 2, 3]\n"
     ]
    }
   ],
   "source": [
    "for i in range(1,4):\n",
    "    print(list(range(1,4)))\n"
   ]
  },
  {
   "cell_type": "code",
   "execution_count": 78,
   "metadata": {},
   "outputs": [
    {
     "data": {
      "text/plain": [
       "1"
      ]
     },
     "execution_count": 78,
     "metadata": {},
     "output_type": "execute_result"
    }
   ],
   "source": [
    "no_samples[0]"
   ]
  },
  {
   "cell_type": "code",
   "execution_count": 79,
   "metadata": {},
   "outputs": [
    {
     "data": {
      "text/plain": [
       "2"
      ]
     },
     "execution_count": 79,
     "metadata": {},
     "output_type": "execute_result"
    }
   ],
   "source": [
    "no_samples[1]"
   ]
  },
  {
   "cell_type": "code",
   "execution_count": 80,
   "metadata": {},
   "outputs": [
    {
     "data": {
      "text/plain": [
       "3"
      ]
     },
     "execution_count": 80,
     "metadata": {},
     "output_type": "execute_result"
    }
   ],
   "source": [
    "no_samples[2]"
   ]
  },
  {
   "cell_type": "code",
   "execution_count": 81,
   "metadata": {},
   "outputs": [
    {
     "name": "stdout",
     "output_type": "stream",
     "text": [
      "1\n",
      "2\n",
      "3\n"
     ]
    }
   ],
   "source": [
    "for i in range(0,3):\n",
    "    print(no_samples[i])"
   ]
  },
  {
   "cell_type": "code",
   "execution_count": 88,
   "metadata": {},
   "outputs": [
    {
     "data": {
      "text/plain": [
       "28.6"
      ]
     },
     "execution_count": 88,
     "metadata": {},
     "output_type": "execute_result"
    }
   ],
   "source": [
    "gamma_b = []\n",
    "\n",
    "for i in range(0,3):\n",
    "    gamma_b = gamma_b_nom + no_samples[i] * gamma_b_std\n",
    "\n",
    "gamma_b"
   ]
  },
  {
   "cell_type": "code",
   "execution_count": 119,
   "metadata": {},
   "outputs": [],
   "source": [
    "import numpy as np"
   ]
  },
  {
   "cell_type": "code",
   "execution_count": 120,
   "metadata": {},
   "outputs": [
    {
     "name": "stdout",
     "output_type": "stream",
     "text": [
      "[1, 2, 3]\n"
     ]
    }
   ],
   "source": [
    "no_samples = list(range(1,4))\n",
    "print(no_samples)"
   ]
  },
  {
   "cell_type": "code",
   "execution_count": 127,
   "metadata": {},
   "outputs": [
    {
     "name": "stdout",
     "output_type": "stream",
     "text": [
      "[1 1 1]\n"
     ]
    }
   ],
   "source": [
    "ones_array = np.ones((len(no_samples)), dtype = int)\n",
    "print(ones_array)"
   ]
  },
  {
   "cell_type": "code",
   "execution_count": 136,
   "metadata": {},
   "outputs": [
    {
     "name": "stdout",
     "output_type": "stream",
     "text": [
      "(1, 3)\n",
      "[[22 22 22]]\n"
     ]
    }
   ],
   "source": [
    "gamma_b_nom = 22 #kN/m3\n",
    "\n",
    "gamma_b_nom = np.array([gamma_b_nom * ones_array]) #to understand this step, look at https://www.delftstack.com/howto/numpy/numpy-transpose-a-1d-array/\n",
    "print(gamma_b_nom.shape)"
   ]
  },
  {
   "cell_type": "code",
   "execution_count": 139,
   "metadata": {},
   "outputs": [
    {
     "name": "stdout",
     "output_type": "stream",
     "text": [
      "[[22]\n",
      " [22]\n",
      " [22]]\n"
     ]
    }
   ],
   "source": [
    "gamma_b_nom = gamma_b_nom.T\n",
    "print(gamma_b_nom)"
   ]
  },
  {
   "cell_type": "code",
   "execution_count": 140,
   "metadata": {},
   "outputs": [
    {
     "name": "stdout",
     "output_type": "stream",
     "text": [
      "[[44]\n",
      " [44]\n",
      " [44]]\n"
     ]
    }
   ],
   "source": [
    "print(gamma_b_nom + gamma_b_nom)"
   ]
  },
  {
   "cell_type": "code",
   "execution_count": 141,
   "metadata": {},
   "outputs": [
    {
     "name": "stdout",
     "output_type": "stream",
     "text": [
      "[[2.2 2.2 2.2]]\n"
     ]
    }
   ],
   "source": [
    "gamma_b_std = np.array([gamma_b_std * ones_array])\n",
    "print(gamma_b_std)"
   ]
  },
  {
   "cell_type": "code",
   "execution_count": 142,
   "metadata": {},
   "outputs": [
    {
     "name": "stdout",
     "output_type": "stream",
     "text": [
      "[[2.2]\n",
      " [2.2]\n",
      " [2.2]]\n"
     ]
    }
   ],
   "source": [
    "gamma_b_std = gamma_b_std.T\n",
    "print(gamma_b_std)"
   ]
  },
  {
   "cell_type": "code",
   "execution_count": 181,
   "metadata": {},
   "outputs": [
    {
     "name": "stdout",
     "output_type": "stream",
     "text": [
      "[22.  24.2 26.4]\n"
     ]
    }
   ],
   "source": [
    "gamma_b = []\n",
    "\n",
    "for i in range(0,len(no_samples)):\n",
    "    gamma_b = (gamma_b_nom[i] + range(0,len(no_samples)) * gamma_b_std[i])\n",
    "\n",
    "print(gamma_b)"
   ]
  },
  {
   "cell_type": "code",
   "execution_count": 190,
   "metadata": {},
   "outputs": [],
   "source": [
    "gamma_b = np.array([gamma_b]).T"
   ]
  },
  {
   "cell_type": "code",
   "execution_count": 191,
   "metadata": {},
   "outputs": [],
   "source": [
    "float_formatter = \"{:.1f}\".format\n",
    "np.set_printoptions(formatter = {'float_kind': float_formatter}) #for more info, look at https://stackoverflow.com/questions/68428028/how-can-0-decimals-be-included-when-working-with-numpy-floats"
   ]
  },
  {
   "cell_type": "code",
   "execution_count": 192,
   "metadata": {},
   "outputs": [
    {
     "name": "stdout",
     "output_type": "stream",
     "text": [
      "[[[[[22.0]]\n",
      "\n",
      "   [[24.2]]\n",
      "\n",
      "   [[26.4]]]]]\n"
     ]
    }
   ],
   "source": [
    "print(gamma_b)"
   ]
  },
  {
   "cell_type": "code",
   "execution_count": 193,
   "metadata": {},
   "outputs": [],
   "source": [
    "import math #math documentation at https://docs.python.org/3/library/math.html\n",
    "pi = math.pi"
   ]
  },
  {
   "cell_type": "code",
   "execution_count": 194,
   "metadata": {},
   "outputs": [
    {
     "name": "stdout",
     "output_type": "stream",
     "text": [
      "3.45 3.95 3.70\n"
     ]
    }
   ],
   "source": [
    "L = round(9260/1000, 3) #m\n",
    "r_i = round(3450/1000, 3) #m\n",
    "t = round(500/1000, 3) #m\n",
    "r_e = round(3950/1000, 3) #m\n",
    "r = round(1/2*(r_i + r_e), 3) #m\n",
    "\n",
    "print(f'{r_i:.2f}', f'{r_e:.2f}', f'{r:.2f}') #round decimals example at https://kodify.net/python/math/round-decimals/"
   ]
  },
  {
   "cell_type": "code",
   "execution_count": 195,
   "metadata": {},
   "outputs": [],
   "source": [
    "# gamma_b = 22 #kN/m3\n",
    "fm_b = 8 #MPa"
   ]
  },
  {
   "cell_type": "code",
   "execution_count": 196,
   "metadata": {},
   "outputs": [],
   "source": [
    "b = 1 #m -investigated arch barrel slice-"
   ]
  },
  {
   "cell_type": "code",
   "execution_count": 197,
   "metadata": {},
   "outputs": [
    {
     "name": "stdout",
     "output_type": "stream",
     "text": [
      "12.254174844408688\n",
      "9.348201639838129\n",
      "2.905973204570559\n"
     ]
    }
   ],
   "source": [
    "A_e = (1/4)*(pi * math.pow(r_e, 2)) #m2\n",
    "print(A_e)\n",
    "\n",
    "A_i = (1/4)*(pi * math.pow(r_i, 2)) #m2\n",
    "print(A_i)\n",
    "\n",
    "A = (A_e-A_i)\n",
    "print(A)"
   ]
  },
  {
   "cell_type": "code",
   "execution_count": 200,
   "metadata": {},
   "outputs": [
    {
     "name": "stdout",
     "output_type": "stream",
     "text": [
      "[[[[[63.9]]\n",
      "\n",
      "   [[70.3]]\n",
      "\n",
      "   [[76.7]]]]]\n"
     ]
    }
   ],
   "source": [
    "P = gamma_b * A * b #a vector of P is expected, with length equal to gamma_b's length\n",
    "print(P)"
   ]
  },
  {
   "cell_type": "code",
   "execution_count": 201,
   "metadata": {},
   "outputs": [
    {
     "name": "stdout",
     "output_type": "stream",
     "text": [
      "2.95\n",
      "3.17\n",
      "2.27\n"
     ]
    }
   ],
   "source": [
    "xp_re = 1/2 * L - (4/(3*pi)*r_e) #m\n",
    "print(f'{xp_re:.2f}')\n",
    "\n",
    "xp_ri = 1/2 * L - (4/(3*pi)*r_i) #m\n",
    "print(f'{xp_ri:.2f}')\n",
    "\n",
    "xp = ((xp_re*A_e)-(xp_ri*A_i))/A #m\n",
    "print(f'{xp:.2f}')"
   ]
  },
  {
   "cell_type": "code",
   "execution_count": 204,
   "metadata": {},
   "outputs": [],
   "source": [
    "H_a = (xp * P)/(2/3*t + r_i) #kN\n",
    "\n",
    "V_a = P #kN\n",
    "\n",
    "#S_a = math.sqrt(math.pow(H_a, 2) + math.pow(V_a, 2)) #kN -the math function doesn't work on array's elements- for more, look at https://stackoverflow.com/questions/63515866/only-size-1-arrays-can-be-converted-to-python-scalars\n"
   ]
  },
  {
   "cell_type": "code",
   "execution_count": 206,
   "metadata": {},
   "outputs": [],
   "source": [
    "def myPow(H_a, V_a):\n",
    "    S_a = math.sqrt(math.pow(H_a, 2) + math.pow(V_a, 2))\n",
    "    return S_a"
   ]
  },
  {
   "cell_type": "code",
   "execution_count": 207,
   "metadata": {},
   "outputs": [],
   "source": [
    "myPowVec = np.vectorize(myPow, excluded=['H_a', 'V_a'])"
   ]
  },
  {
   "cell_type": "code",
   "execution_count": 209,
   "metadata": {},
   "outputs": [
    {
     "name": "stdout",
     "output_type": "stream",
     "text": [
      "[[[[[74.6]]\n",
      "\n",
      "   [[82.0]]\n",
      "\n",
      "   [[89.5]]]]]\n"
     ]
    }
   ],
   "source": [
    "S_a = myPowVec(H_a, V_a)\n",
    "print(S_a)"
   ]
  },
  {
   "cell_type": "code",
   "execution_count": 210,
   "metadata": {},
   "outputs": [],
   "source": [
    "gamma_fL = 1.15\n",
    "gamma_f_three = 1.0\n",
    "e = t/6 #m\n",
    "CF = 1\n",
    "delta = 0.85\n",
    "K = 0.50\n",
    "alfa = 0.7\n",
    "beta = 0.3\n",
    "f_m = 4 #MPa"
   ]
  },
  {
   "cell_type": "code",
   "execution_count": 211,
   "metadata": {},
   "outputs": [
    {
     "data": {
      "text/plain": [
       "2.8996410582174934"
      ]
     },
     "execution_count": 211,
     "metadata": {},
     "output_type": "execute_result"
    }
   ],
   "source": [
    "f_b = CF * delta * fm_b #MPa\n",
    "f_k = K * math.pow(f_b, alfa) * math.pow(f_m, beta) #MPa\n",
    "f_k"
   ]
  },
  {
   "cell_type": "code",
   "execution_count": 212,
   "metadata": {},
   "outputs": [
    {
     "name": "stdout",
     "output_type": "stream",
     "text": [
      "386.62\n"
     ]
    }
   ],
   "source": [
    "R_d = 0.4 * b * f_k * (t-2*e)*1000 #kN\n",
    "print(f'{R_d:.2f}')"
   ]
  },
  {
   "cell_type": "code",
   "execution_count": 214,
   "metadata": {},
   "outputs": [
    {
     "name": "stdout",
     "output_type": "stream",
     "text": [
      "[[[[[85.7]]\n",
      "\n",
      "   [[94.3]]\n",
      "\n",
      "   [[102.9]]]]]\n"
     ]
    }
   ],
   "source": [
    "E_d = gamma_fL * gamma_f_three * S_a #kN\n",
    "print(E_d)"
   ]
  },
  {
   "cell_type": "code",
   "execution_count": 215,
   "metadata": {},
   "outputs": [
    {
     "data": {
      "text/plain": [
       "array([[[[[ True]],\n",
       "\n",
       "         [[ True]],\n",
       "\n",
       "         [[ True]]]]])"
      ]
     },
     "execution_count": 215,
     "metadata": {},
     "output_type": "execute_result"
    }
   ],
   "source": [
    "E_d <= R_d"
   ]
  },
  {
   "cell_type": "code",
   "execution_count": null,
   "metadata": {},
   "outputs": [],
   "source": []
  }
 ],
 "metadata": {
  "kernelspec": {
   "display_name": "Python 3.9.7 ('base')",
   "language": "python",
   "name": "python3"
  },
  "language_info": {
   "codemirror_mode": {
    "name": "ipython",
    "version": 3
   },
   "file_extension": ".py",
   "mimetype": "text/x-python",
   "name": "python",
   "nbconvert_exporter": "python",
   "pygments_lexer": "ipython3",
   "version": "3.9.7"
  },
  "orig_nbformat": 4,
  "vscode": {
   "interpreter": {
    "hash": "40d3a090f54c6569ab1632332b64b2c03c39dcf918b08424e98f38b5ae0af88f"
   }
  }
 },
 "nbformat": 4,
 "nbformat_minor": 2
}
