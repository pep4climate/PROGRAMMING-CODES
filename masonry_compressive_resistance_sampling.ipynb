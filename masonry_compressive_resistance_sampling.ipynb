{
 "cells": [
  {
   "cell_type": "code",
   "execution_count": 189,
   "metadata": {},
   "outputs": [],
   "source": [
    "compressive_resistance_mean = 3 #MPa -from Tubaldi et al. (2018)\n",
    "compressive_resistance_cv = 0.15 #dimensionless -from Eidsvig et al. (2021)"
   ]
  },
  {
   "cell_type": "code",
   "execution_count": 190,
   "metadata": {},
   "outputs": [
    {
     "name": "stdout",
     "output_type": "stream",
     "text": [
      "0.44999999999999996\n"
     ]
    }
   ],
   "source": [
    "compressive_resistance_std = compressive_resistance_mean * compressive_resistance_cv #MPa\n",
    "print(compressive_resistance_std)"
   ]
  },
  {
   "cell_type": "code",
   "execution_count": 191,
   "metadata": {},
   "outputs": [],
   "source": [
    "# For more info, look at https://stackoverflow.com/questions/10138085/how-to-plot-normal-distribution\n",
    "import math\n",
    "import numpy as np\n",
    "import matplotlib.pyplot as plt\n",
    "import scipy.stats as stats"
   ]
  },
  {
   "cell_type": "code",
   "execution_count": 192,
   "metadata": {},
   "outputs": [],
   "source": [
    "pi = math.pi"
   ]
  },
  {
   "cell_type": "code",
   "execution_count": 193,
   "metadata": {},
   "outputs": [],
   "source": [
    "no_samples = 100000\n",
    "compressive_resistance_values = np.linspace(compressive_resistance_mean-3*compressive_resistance_std, compressive_resistance_mean+3*compressive_resistance_std, no_samples)"
   ]
  },
  {
   "cell_type": "code",
   "execution_count": 194,
   "metadata": {},
   "outputs": [
    {
     "data": {
      "image/png": "[encoded data removed]",
      "text/plain": [
       "<Figure size 432x288 with 1 Axes>"
      ]
     },
     "metadata": {
      "needs_background": "light"
     },
     "output_type": "display_data"
    }
   ],
   "source": [
    "plt.plot(compressive_resistance_values, stats.norm.pdf(compressive_resistance_values, compressive_resistance_mean, compressive_resistance_std))\n",
    "plt.xlabel(\"Masonry's compressive resistance (MPa)\") #for more info, look at https://www.delftstack.com/howto/matplotlib/python-matplotlib-plot-superscript/#:~:text=To%20make%20subscripts%2C%20you%20have,will%20be%20over%20the%20character.\n",
    "plt.ylabel(\"Frequency (-)\")\n",
    "characters_size = 14\n",
    "plt.rc('axes', labelsize = characters_size) #for more info, look at https://stackoverflow.com/questions/3899980/how-to-change-the-font-size-on-a-matplotlib-plot\n",
    "plt.rc('xtick', labelsize = characters_size)\n",
    "plt.rc('ytick', labelsize = characters_size)\n"
   ]
  },
  {
   "cell_type": "code",
   "execution_count": 195,
   "metadata": {},
   "outputs": [],
   "source": [
    "#import random #for more info, https://stackoverflow.com/questions/30030659/in-python-what-is-the-difference-between-random-uniform-and-random-random#:~:text=It's%20very%20common%20to%20generate,to%20specify%20a%20different%20range.\n",
    "\n",
    "#unif_random_numbers = np.random.uniform(0,1, no_samples) #for more info, https://numpy.org/doc/stable/reference/random/generated/numpy.random.uniform.html\n",
    "\n",
    "#print(unif_random_numbers)"
   ]
  },
  {
   "cell_type": "code",
   "execution_count": 196,
   "metadata": {},
   "outputs": [
    {
     "data": {
      "text/plain": [
       "array([0.4359949 , 0.02592623, 0.54966248, 0.43532239, 0.4203678 ])"
      ]
     },
     "execution_count": 196,
     "metadata": {},
     "output_type": "execute_result"
    }
   ],
   "source": [
    "#To guarantee reproducibility, the seed function can be used. Random.uniform() returns a new random number from a PRNG sequence. When that PRNG sequence is\n",
    "#seeded with the same value, it produces the same sequence. Random is seeded with current system time on module import by default.\n",
    "#The seed must be stated explicitly to enable reproduction of the same sequence, which can be important for simulations.\n",
    "#for more, https://stackoverflow.com/questions/32489360/do-i-need-to-use-random-seed-with-random-uniform-to-ensure-i-get-different-s\n",
    "\n",
    "import scipy as sp #for more, https://subscription.packtpub.com/book/big-data-&-business-intelligence/9781787125698/12/ch25lvl1sec126/generating-random-numbers-from-a-uniform-distribution\n",
    "sp.random.seed(2)\n",
    "\n",
    "unif_random_numbers = sp.random.uniform(low=0, high=1, size = no_samples)\n",
    "unif_random_numbers[0:5]"
   ]
  },
  {
   "cell_type": "code",
   "execution_count": 197,
   "metadata": {},
   "outputs": [
    {
     "data": {
      "text/plain": [
       "array([-0.16113153, -1.9443566 ,  0.12480864, -0.16283953, -0.20095264])"
      ]
     },
     "execution_count": 197,
     "metadata": {},
     "output_type": "execute_result"
    }
   ],
   "source": [
    "compressive_resistance_realizations_standard = stats.norm.ppf(unif_random_numbers) #for more info, https://stackoverflow.com/questions/20626994/how-to-calculate-the-inverse-of-the-normal-cumulative-distribution-function-in-p\n",
    "compressive_resistance_realizations_standard[0:5]"
   ]
  },
  {
   "cell_type": "code",
   "execution_count": 198,
   "metadata": {},
   "outputs": [
    {
     "data": {
      "text/plain": [
       "array([2.92749081, 2.12503953, 3.05616389, 2.92672221, 2.90957131])"
      ]
     },
     "execution_count": 198,
     "metadata": {},
     "output_type": "execute_result"
    }
   ],
   "source": [
    "compressive_resistance_realizations_distribution = (compressive_resistance_std * compressive_resistance_realizations_standard) + compressive_resistance_mean #for more info, https://www.probabilitycourse.com/chapter4/4_2_3_normal.php\n",
    "compressive_resistance_realizations_distribution[0:5]"
   ]
  },
  {
   "cell_type": "code",
   "execution_count": 199,
   "metadata": {},
   "outputs": [
    {
     "data": {
      "text/plain": [
       "array([376.67048419, 273.42175287, 393.22642047, 376.57159136,\n",
       "       374.36484198])"
      ]
     },
     "execution_count": 199,
     "metadata": {},
     "output_type": "execute_result"
    }
   ],
   "source": [
    "Rd_arch = 386 #kN\n",
    "Rd_arch_new = (Rd_arch/compressive_resistance_mean) * compressive_resistance_realizations_distribution\n",
    "Rd_arch_new[0:5]"
   ]
  },
  {
   "cell_type": "code",
   "execution_count": 200,
   "metadata": {},
   "outputs": [
    {
     "data": {
      "text/plain": [
       "array([[376.67048419],\n",
       "       [273.42175287],\n",
       "       [393.22642047],\n",
       "       [376.57159136],\n",
       "       [374.36484198]])"
      ]
     },
     "execution_count": 200,
     "metadata": {},
     "output_type": "execute_result"
    }
   ],
   "source": [
    "Rd_arch_new = np.array([Rd_arch_new]).T\n",
    "Rd_arch_new[0:5]"
   ]
  },
  {
   "cell_type": "code",
   "execution_count": 201,
   "metadata": {},
   "outputs": [],
   "source": [
    "#Rd_tot_new.to_csv('capacity') #for more, https://www.codegrepper.com/code-examples/python/numpy+to_csv\n",
    "import pandas as pd\n",
    "pd.DataFrame(Rd_arch_new).to_csv(\"capacity.csv\")"
   ]
  }
 ],
 "metadata": {
  "kernelspec": {
   "display_name": "Python 3.9.7 ('base')",
   "language": "python",
   "name": "python3"
  },
  "language_info": {
   "codemirror_mode": {
    "name": "ipython",
    "version": 3
   },
   "file_extension": ".py",
   "mimetype": "text/x-python",
   "name": "python",
   "nbconvert_exporter": "python",
   "pygments_lexer": "ipython3",
   "version": "3.9.7"
  },
  "orig_nbformat": 4,
  "vscode": {
   "interpreter": {
    "hash": "40d3a090f54c6569ab1632332b64b2c03c39dcf918b08424e98f38b5ae0af88f"
   }
  }
 },
 "nbformat": 4,
 "nbformat_minor": 2
}
